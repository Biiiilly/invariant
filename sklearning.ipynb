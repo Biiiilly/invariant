{
 "cells": [
  {
   "cell_type": "code",
   "execution_count": 8,
   "metadata": {},
   "outputs": [],
   "source": [
    "import numpy as np\n",
    "import matplotlib.pyplot as plt\n",
    "from sklearn import datasets\n",
    "from sklearn.model_selection import train_test_split\n",
    "from sklearn.preprocessing import StandardScaler\n",
    "from sklearn.linear_model import LogisticRegression\n",
    "from sklearn.metrics import accuracy_score, classification_report\n",
    "from eval import compute_from_file\n"
   ]
  },
  {
   "cell_type": "code",
   "execution_count": 5,
   "metadata": {},
   "outputs": [
    {
     "name": "stdout",
     "output_type": "stream",
     "text": [
      "number of data: 1797\n",
      "dimension: 64\n",
      "(1797, 64)\n"
     ]
    }
   ],
   "source": [
    "digits = datasets.load_digits()\n",
    "\n",
    "print(f\"number of data: {digits.data.shape[0]}\")\n",
    "print(f\"dimension: {digits.data.shape[1]}\")  # 8x8=64\n",
    "print(digits.data.shape)\n"
   ]
  },
  {
   "cell_type": "code",
   "execution_count": 13,
   "metadata": {},
   "outputs": [
    {
     "name": "stdout",
     "output_type": "stream",
     "text": [
      "5.0\n",
      "0.0\n",
      "0.0\n",
      "0.0\n"
     ]
    }
   ],
   "source": [
    "# x3+x24+x41+x62\n",
    "print(digits.data[0, 2])\n",
    "print(digits.data[0, 23])\n",
    "print(digits.data[0, 40])\n",
    "print(digits.data[0, 61])"
   ]
  },
  {
   "cell_type": "code",
   "execution_count": 14,
   "metadata": {},
   "outputs": [
    {
     "name": "stdout",
     "output_type": "stream",
     "text": [
      "[ 0.  0.  5. 13.  9.  1.  0.  0.  0.  0. 13. 15. 10. 15.  5.  0.  0.  3.\n",
      " 15.  2.  0. 11.  8.  0.  0.  4. 12.  0.  0.  8.  8.  0.  0.  5.  8.  0.\n",
      "  0.  9.  8.  0.  0.  4. 11.  0.  1. 12.  7.  0.  0.  2. 14.  5. 10. 12.\n",
      "  0.  0.  0.  0.  6. 13. 10.  0.  0.  0.]\n",
      "[0.0, 0.0, 5.0, 23.0, 22.0]\n",
      "12512\n"
     ]
    }
   ],
   "source": [
    "out_list = compute_from_file(digits.data[0], \"output.txt\")\n",
    "print(digits.data[0])\n",
    "print(out_list[:5])\n",
    "print(len(out_list))"
   ]
  },
  {
   "cell_type": "code",
   "execution_count": 16,
   "metadata": {},
   "outputs": [
    {
     "name": "stdout",
     "output_type": "stream",
     "text": [
      "3519\n",
      "[5.0, 23.0, 22.0, 7.0, 7.0, 37.0, 38.0, 27.0, 39.0, 49.0, 19.0, 21.0, 25.0, 65.0, 45.0, 5.0, 65.0, 75.0, 50.0, 75.0]\n"
     ]
    }
   ],
   "source": [
    "out_list = [x for x in out_list if x != 0]\n",
    "print(len(out_list))\n",
    "print(out_list[:20])"
   ]
  }
 ],
 "metadata": {
  "kernelspec": {
   "display_name": "Python 3",
   "language": "python",
   "name": "python3"
  },
  "language_info": {
   "codemirror_mode": {
    "name": "ipython",
    "version": 3
   },
   "file_extension": ".py",
   "mimetype": "text/x-python",
   "name": "python",
   "nbconvert_exporter": "python",
   "pygments_lexer": "ipython3",
   "version": "3.10.1"
  }
 },
 "nbformat": 4,
 "nbformat_minor": 2
}
